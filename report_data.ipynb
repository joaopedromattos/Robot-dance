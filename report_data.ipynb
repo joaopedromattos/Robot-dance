{
 "cells": [
  {
   "cell_type": "markdown",
   "metadata": {},
   "source": [
    "# Generate the data for the discussion of the Robot Dance report v. 1.0"
   ]
  },
  {
   "cell_type": "code",
   "execution_count": null,
   "metadata": {},
   "outputs": [],
   "source": [
    "import datetime\n",
    "import numpy as np\n",
    "import run_test"
   ]
  },
  {
   "cell_type": "code",
   "execution_count": null,
   "metadata": {},
   "outputs": [],
   "source": [
    "%%capture \n",
    "\n",
    "# Test configuration\n",
    "max_neighbors = 3\n",
    "ndays = 400\n",
    "hammer_level = 0.89\n",
    "min_level = 1.0\n",
    "window = 14\n",
    "\n",
    "# Compute initial values for first run and read the cities and other initial data\n",
    "run_test.compute_initial_condition_and_evolve(1)\n",
    "large_cities, population, initial_values, M, out = run_test.read_test_data(max_neighbors)\n",
    "\n",
    "# force_dif is used to turn off alternation if a city has already \n",
    "# achieved herd immunity.\n",
    "# TODO: this should be estimated automatically, maybe doing a simulation to see\n",
    "# how long each city takes to get hear immunity if it goes isolated or something else.\n",
    "ncities = len(large_cities)\n",
    "force_dif = np.ones((ncities, ndays))\n",
    "force_dif[:-1, 288:] = 0.0\n",
    "force_dif[-1, 149:] = 0.0\n",
    "\n",
    "target = 0.007*np.ones((ncities, ndays))\n",
    "target[-1, :] = 0.015"
   ]
  },
  {
   "cell_type": "markdown",
   "metadata": {},
   "source": [
    "## Tests with window 14 and start from official data"
   ]
  },
  {
   "cell_type": "code",
   "execution_count": null,
   "metadata": {},
   "outputs": [],
   "source": [
    "%%capture\n",
    "hammer_duration = 14\n",
    "window = 1\n",
    "run_test.prepare_optimization(large_cities, population, initial_values, M, out, target, window, ndays, \n",
    "                              min_level, hammer_duration, hammer_level, force_dif)"
   ]
  },
  {
   "cell_type": "code",
   "execution_count": null,
   "metadata": {},
   "outputs": [],
   "source": [
    "%%time\n",
    "run_test.optimize_and_show_results(\"results/window_14_i.png\", \"results/window_14_rt.png\",\n",
    "                                   \"results/window_14.csv\", large_cities)"
   ]
  },
  {
   "cell_type": "markdown",
   "metadata": {},
   "source": [
    "## Tests with window 14 and start with corrected data (12x)"
   ]
  },
  {
   "cell_type": "code",
   "execution_count": null,
   "metadata": {},
   "outputs": [],
   "source": [
    "%%capture\n",
    "# Initial conditions with 12x correction\n",
    "run_test.compute_initial_condition_and_evolve(12)\n",
    "large_cities, population, initial_values, M, out = run_test.read_test_data(max_neighbors)\n",
    "hammer_duration = 14\n",
    "run_test.prepare_optimization(large_cities, population, initial_values, M, out, target, window, ndays, \n",
    "                              min_level, hammer_duration, hammer_level, force_dif)"
   ]
  },
  {
   "cell_type": "code",
   "execution_count": null,
   "metadata": {},
   "outputs": [],
   "source": [
    "%%time\n",
    "run_test.optimize_and_show_results(\"results/window_14_12x_i.png\", \"results/window_14_12x_rt.png\", \n",
    "                                   \"results/window_14_12x.csv\", large_cities)"
   ]
  },
  {
   "cell_type": "markdown",
   "metadata": {},
   "source": [
    "## Tests with window 14 and start from official data and using São Paulo's extra capacity"
   ]
  },
  {
   "cell_type": "code",
   "execution_count": null,
   "metadata": {},
   "outputs": [],
   "source": [
    "%%capture\n",
    "# Simulate São Paulo giving UTI places to the interior.\n",
    "start_date = datetime.date(2020, 4, 23)\n",
    "change_date = datetime.date(2020, 8, 20)\n",
    "change_index = (change_date - start_date).days\n",
    "target[:-1, change_index:] *= 2.0\n",
    "target[-1, change_index:] /= 2.0\n",
    "\n",
    "run_test.compute_initial_condition_and_evolve(1)\n",
    "hammer_duration = 0\n",
    "large_cities, population, initial_values, M, out = run_test.read_test_data(max_neighbors)\n",
    "run_test.prepare_optimization(large_cities, population, initial_values, M, out, target, window, ndays, \n",
    "                              min_level, hammer_duration, hammer_level, force_dif)"
   ]
  },
  {
   "cell_type": "code",
   "execution_count": null,
   "metadata": {},
   "outputs": [],
   "source": [
    "%%time\n",
    "run_test.optimize_and_show_results(\"results/window_14_extra_capacity_i.png\", \"results/window_14_extra_capacity_rt.png\", \n",
    "                                   \"results/window_14_extra_capacity.csv\", large_cities)"
   ]
  },
  {
   "cell_type": "markdown",
   "metadata": {},
   "source": [
    "## Tests with window 14 and start using corrected data (12x) and using São Paulo's extra capacity"
   ]
  },
  {
   "cell_type": "code",
   "execution_count": null,
   "metadata": {},
   "outputs": [],
   "source": [
    "%%capture\n",
    "# Initial conditions with 12x correction\n",
    "run_test.compute_initial_condition_and_evolve(12)\n",
    "large_cities, population, initial_values, M, out = run_test.read_test_data(max_neighbors)\n",
    "hammer_duration = 14\n",
    "run_test.prepare_optimization(large_cities, population, initial_values, M, out, target, window, ndays, \n",
    "                              min_level, hammer_duration, hammer_level, force_dif)"
   ]
  },
  {
   "cell_type": "code",
   "execution_count": null,
   "metadata": {},
   "outputs": [],
   "source": [
    "%%time\n",
    "run_test.optimize_and_show_results(\"results/window_14_12x_extra_capacity_i.png\", \"results/window_14_12x_extra_capacity_rt.png\", \n",
    "                                   \"results/window_14_12x_extra_capacity.csv\", large_cities)"
   ]
  },
  {
   "cell_type": "code",
   "execution_count": null,
   "metadata": {},
   "outputs": [],
   "source": []
  }
 ],
 "metadata": {
  "kernelspec": {
   "display_name": "Python 3",
   "language": "python",
   "name": "python3"
  },
  "language_info": {
   "codemirror_mode": {
    "name": "ipython",
    "version": 3
   },
   "file_extension": ".py",
   "mimetype": "text/x-python",
   "name": "python",
   "nbconvert_exporter": "python",
   "pygments_lexer": "ipython3",
   "version": "3.7.7"
  }
 },
 "nbformat": 4,
 "nbformat_minor": 4
}
